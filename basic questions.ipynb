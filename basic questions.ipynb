{
 "cells": [
  {
   "cell_type": "markdown",
   "metadata": {},
   "source": [
    "## name: Roopchand reddy vanga\n",
    "## reg.no: RA1911003010931"
   ]
  },
  {
   "cell_type": "code",
   "execution_count": null,
   "metadata": {},
   "outputs": [],
   "source": [
    "\"\"\"1)Three numbers, a, b and c, are called a Pythagorean triple if a 2+ b2= c 2. An example is the\n",
    "triple 3, 4 and 5, since 9 + 16 = 25. Pythagorean triples can represent, for example, the length\n",
    "of sides in a right triangle. Write a series of Python statements that will read three numbers\n",
    "into variables named a, b and c and then print a message saying whether or not they are a\n",
    "Pythagorean triple.\"\"\""
   ]
  },
  {
   "cell_type": "code",
   "execution_count": 3,
   "metadata": {},
   "outputs": [
    {
     "name": "stdout",
     "output_type": "stream",
     "text": [
      "Enter three value: 3 4 5\n",
      "They are a Pythagorean triple\n"
     ]
    }
   ],
   "source": [
    "a,v,c = [int(x) for x in str(input(\"Enter three value: \")).split()]\n",
    "n=a**2+v**2\n",
    "p=c**2\n",
    "if(n==p):\n",
    "    print(\"They are a Pythagorean triple\")\n",
    "else:\n",
    "    print(\"not a Pythagorean triple\")"
   ]
  },
  {
   "cell_type": "markdown",
   "metadata": {},
   "source": [
    "## 2)"
   ]
  },
  {
   "cell_type": "code",
   "execution_count": null,
   "metadata": {},
   "outputs": [],
   "source": [
    "\"\"\"Write a program that will accept as input a series of names and salaries. Using the name\n",
    "“End” to mark the end if the sequence of values. After the values have been entered, print the\n",
    "average salary, and the names and salaries of those individuals with the highest and lowest\n",
    "salary.\"\"\""
   ]
  },
  {
   "cell_type": "code",
   "execution_count": 3,
   "metadata": {},
   "outputs": [
    {
     "name": "stdout",
     "output_type": "stream",
     "text": [
      "Enter values: ab cd ef gh end\n",
      "Enter values: 7600 3200 5900 1800\n",
      "avg salary is 4625.0\n",
      "ab has the highest salary\n",
      "gh has the least salary\n"
     ]
    }
   ],
   "source": [
    "a=[str(x) for x in input(\"Enter values: \").split( ) if str(x)!='end']\n",
    "b=[int(x) for x in input(\"Enter values: \").split()]\n",
    "print(\"avg salary is \"+ str(float(sum(b)/len(b))))\n",
    "print(str(a[b.index(max(b))])+\" has the highest salary\")\n",
    "print(str(a[b.index(min(b))])+\" has the least salary\")"
   ]
  },
  {
   "cell_type": "markdown",
   "metadata": {},
   "source": [
    "## 3)"
   ]
  },
  {
   "cell_type": "code",
   "execution_count": null,
   "metadata": {},
   "outputs": [],
   "source": [
    "\"\"\"Using a for loop, print a table of powers of x, where x ranges from 1 to 10. For each value x,print the quantity\n",
    "x, x2, and x3. Using tab characters in your print statement to make thevalues line up nicely.\"\"\""
   ]
  },
  {
   "cell_type": "code",
   "execution_count": 51,
   "metadata": {},
   "outputs": [
    {
     "name": "stdout",
     "output_type": "stream",
     "text": [
      "x= 1 \t x^2= 1 \t x^3= 1\n",
      "x= 2 \t x^2= 4 \t x^3= 8\n",
      "x= 3 \t x^2= 9 \t x^3= 27\n",
      "x= 4 \t x^2= 16 \t x^3= 64\n",
      "x= 5 \t x^2= 25 \t x^3= 125\n",
      "x= 6 \t x^2= 36 \t x^3= 216\n",
      "x= 7 \t x^2= 49 \t x^3= 343\n",
      "x= 8 \t x^2= 64 \t x^3= 512\n",
      "x= 9 \t x^2= 81 \t x^3= 729\n",
      "x= 10 \t x^2= 100 \t x^3= 1000\n"
     ]
    }
   ],
   "source": [
    "for x in range(1,11):\n",
    "    print(\"x=\",x,\"\\t\",\"x^2=\",x**2,\"\\t\",\"x^3=\",x**3)"
   ]
  },
  {
   "cell_type": "markdown",
   "metadata": {},
   "source": [
    "## 4)"
   ]
  },
  {
   "cell_type": "code",
   "execution_count": null,
   "metadata": {},
   "outputs": [],
   "source": [
    "\"\"\"Write a program that reads a word, and prints the number of letters in the word, the number of\n",
    "vowels in the word, and the percentage of vowels. Enter a word: sequoia Letters: 7 Vowels: 5\n",
    "Percentage of vowels: 71.42\"\"\""
   ]
  },
  {
   "cell_type": "code",
   "execution_count": 67,
   "metadata": {},
   "outputs": [
    {
     "name": "stdout",
     "output_type": "stream",
     "text": [
      "enter word: sequoia\n",
      "word: sequoia Letters = 7 Vowels: 5 Percentage of vowels: 71.43\n"
     ]
    }
   ],
   "source": [
    "st=str(input(\"enter word: \"))\n",
    "st=st.lower()\n",
    "o=0;\n",
    "for i in st:\n",
    "      if(i=='a' or i=='e' or i=='i' or i=='o' or i=='u' or i=='A' or i=='E' or i=='I' or i=='O' or i=='U'):\n",
    "            o+=1\n",
    "print(\"word:\",st,\"Letters =\",len(st),\"Vowels:\",o,\"Percentage of vowels:\",\"{:.2f}\".format((o*100)/len(st)))"
   ]
  },
  {
   "cell_type": "markdown",
   "metadata": {},
   "source": [
    "## 5)"
   ]
  },
  {
   "cell_type": "code",
   "execution_count": null,
   "metadata": {},
   "outputs": [],
   "source": [
    "\"\"\"Write a program that reads a string and returns a table of the letters of the alphabet in\n",
    "alphabetical order which occur in the string together with the number of times each letter\n",
    "occurs. Case should be ignored. A sample output of the program when the user enters the data\n",
    "“ThiS is String with Upper and lower case Letters”, would look this this:\"\"\""
   ]
  },
  {
   "cell_type": "code",
   "execution_count": 6,
   "metadata": {
    "scrolled": true
   },
   "outputs": [
    {
     "name": "stdout",
     "output_type": "stream",
     "text": [
      "enter : ThiS is String with Upper and lower case Letters\n",
      "a \t 2\n",
      "c \t 1\n",
      "d \t 1\n",
      "e \t 5\n",
      "g \t 1\n",
      "h \t 2\n",
      "i \t 4\n",
      "l \t 2\n",
      "n \t 2\n",
      "o \t 1\n",
      "p \t 2\n",
      "r \t 4\n",
      "s \t 5\n",
      "t \t 5\n",
      "u \t 1\n",
      "w \t 2\n"
     ]
    }
   ],
   "source": [
    "sr=str(input(\"enter : \"))\n",
    "sr=sr.replace(\" \", \"\") \n",
    "sr=sr.lower()\n",
    "ed=list(sr)\n",
    "ed.sort()\n",
    "#print(ed)\n",
    "res = [] \n",
    "for i in sr: \n",
    "    if i not in res: \n",
    "        res.append(i)\n",
    "res.sort()\n",
    "#print(res)\n",
    "for i in res:\n",
    "    print(i,\"\\t\",sr.count(i))"
   ]
  }
 ],
 "metadata": {
  "kernelspec": {
   "display_name": "Python 3",
   "language": "python",
   "name": "python3"
  },
  "language_info": {
   "codemirror_mode": {
    "name": "ipython",
    "version": 3
   },
   "file_extension": ".py",
   "mimetype": "text/x-python",
   "name": "python",
   "nbconvert_exporter": "python",
   "pygments_lexer": "ipython3",
   "version": "3.7.3"
  }
 },
 "nbformat": 4,
 "nbformat_minor": 2
}
