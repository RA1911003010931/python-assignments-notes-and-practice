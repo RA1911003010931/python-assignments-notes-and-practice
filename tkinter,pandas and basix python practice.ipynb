{
 "cells": [
  {
   "cell_type": "code",
   "execution_count": 3,
   "metadata": {},
   "outputs": [
    {
     "name": "stdout",
     "output_type": "stream",
     "text": [
      "enter the number3\n",
      "3 * 1  = 3\n",
      "3 * 2  = 6\n",
      "3 * 3  = 9\n",
      "3 * 4  = 12\n",
      "3 * 5  = 15\n",
      "3 * 6  = 18\n",
      "3 * 7  = 21\n",
      "3 * 8  = 24\n",
      "3 * 9  = 27\n",
      "3 * 10  = 30\n"
     ]
    }
   ],
   "source": [
    "def table(n):\n",
    "    for i in range(1,11):\n",
    "        a=n*i\n",
    "        print(n,\"*\",i, \" =\",a)\n",
    "num=int(input('enter the number'))\n",
    "table(num)"
   ]
  },
  {
   "cell_type": "code",
   "execution_count": 12,
   "metadata": {
    "scrolled": true
   },
   "outputs": [
    {
     "name": "stdout",
     "output_type": "stream",
     "text": [
      "1 3 are twin primes\n",
      "3 5 are twin primes\n",
      "5 7 are twin primes\n",
      "11 13 are twin primes\n",
      "17 19 are twin primes\n",
      "29 31 are twin primes\n",
      "41 43 are twin primes\n",
      "59 61 are twin primes\n",
      "71 73 are twin primes\n",
      "101 103 are twin primes\n",
      "107 109 are twin primes\n",
      "137 139 are twin primes\n",
      "149 151 are twin primes\n",
      "179 181 are twin primes\n",
      "191 193 are twin primes\n",
      "197 199 are twin primes\n",
      "227 229 are twin primes\n",
      "239 241 are twin primes\n",
      "269 271 are twin primes\n",
      "281 283 are twin primes\n",
      "311 313 are twin primes\n",
      "347 349 are twin primes\n",
      "419 421 are twin primes\n",
      "431 433 are twin primes\n",
      "461 463 are twin primes\n",
      "521 523 are twin primes\n",
      "569 571 are twin primes\n",
      "599 601 are twin primes\n",
      "617 619 are twin primes\n",
      "641 643 are twin primes\n",
      "659 661 are twin primes\n",
      "809 811 are twin primes\n",
      "821 823 are twin primes\n",
      "827 829 are twin primes\n",
      "857 859 are twin primes\n",
      "881 883 are twin primes\n"
     ]
    }
   ],
   "source": [
    "\n",
    "for i in range(1,1000):\n",
    "    j=i+2\n",
    "    a=True\n",
    "    b=True\n",
    "    for k in range(2,i):\n",
    "        if(i%k==0):\n",
    "            a=False\n",
    "    for l in range(2,j):    \n",
    "        if(j%l==0):\n",
    "            b=False\n",
    "    if(a==True) and (b==True):\n",
    "        print(i,j,\"are twin primes\")"
   ]
  },
  {
   "cell_type": "code",
   "execution_count": 16,
   "metadata": {
    "scrolled": false
   },
   "outputs": [
    {
     "name": "stdout",
     "output_type": "stream",
     "text": [
      "enter the number:56\n",
      "[2, 2, 2, 7]\n"
     ]
    }
   ],
   "source": [
    "num=int(input('enter the number:'))\n",
    "lst=[]\n",
    "i=2\n",
    "while(i<=num+1):\n",
    "    if(num%i==0):\n",
    "        lst.append(i)\n",
    "        num/=i\n",
    "        i=1\n",
    "    i+=1\n",
    "print(lst)        "
   ]
  },
  {
   "cell_type": "code",
   "execution_count": 21,
   "metadata": {},
   "outputs": [
    {
     "name": "stdout",
     "output_type": "stream",
     "text": [
      "enter the number9\n",
      "enter the number3\n",
      "504.0\n",
      "84.0\n"
     ]
    }
   ],
   "source": [
    "def factorial(num):\n",
    "    return num if num==1 else (num*factorial(num-1))\n",
    "n=int(input('enter the number'))\n",
    "r=int(input('enter the number'))\n",
    "permutation= factorial(n) / factorial(n-r)\n",
    "combination=factorial(n)/(factorial(r)*factorial(n-r))\n",
    "\n",
    "print(permutation)\n",
    "print(combination)"
   ]
  },
  {
   "cell_type": "code",
   "execution_count": 10,
   "metadata": {},
   "outputs": [
    {
     "name": "stdout",
     "output_type": "stream",
     "text": [
      "enter the number:75\n",
      "1001011\n",
      "This is the binary of the given number\n"
     ]
    }
   ],
   "source": [
    "num=int(input('enter the number:'))\n",
    "lst=[]\n",
    "while(num>=1):\n",
    "    a=num%2\n",
    "    a=int(a)\n",
    "    lst.append(a)\n",
    "    num/=2\n",
    "lst.reverse()\n",
    "for ele in lst:\n",
    "    print(ele,end=\"\")\n",
    "print(\"\\nThis is the binary of the given number\")"
   ]
  },
  {
   "cell_type": "code",
   "execution_count": 1,
   "metadata": {},
   "outputs": [
    {
     "name": "stdout",
     "output_type": "stream",
     "text": [
      "enter the number1000\n",
      "1  is an armstrong number\n",
      "153  is an armstrong number\n",
      "370  is an armstrong number\n",
      "371  is an armstrong number\n",
      "407  is an armstrong number\n",
      "enter the number371\n",
      "371 is an armstrong number\n"
     ]
    }
   ],
   "source": [
    "def cubesum(num):\n",
    "    n=0\n",
    "    for i in str(num):\n",
    "        a=int(i)\n",
    "        b=a**3\n",
    "        n+=b\n",
    "    return n\n",
    "def PrintArmstrong():\n",
    "    m=int(input('enter the number'))\n",
    "    for i in range(1,m):\n",
    "        e=cubesum(i)\n",
    "        if(e==i):\n",
    "            print(i,\" is an armstrong number\")\n",
    "PrintArmstrong()  \n",
    "def isArmstrong():\n",
    "    k=int(input('enter the number'))\n",
    "    p=cubesum(k)\n",
    "    if(p==k):\n",
    "        print(k,\"is an armstrong number\")\n",
    "isArmstrong()        "
   ]
  },
  {
   "cell_type": "code",
   "execution_count": 2,
   "metadata": {
    "scrolled": true
   },
   "outputs": [
    {
     "name": "stdout",
     "output_type": "stream",
     "text": [
      "enter the number:33\n",
      "9\n"
     ]
    }
   ],
   "source": [
    "def  prodDigits(x):\n",
    "    n=1\n",
    "    while(x!=0):\n",
    "        a=x%10\n",
    "        n*=a\n",
    "        x/=10\n",
    "        x=int(x)\n",
    "    return n\n",
    "num=int(input('enter the number:'))    \n",
    "w=prodDigits(num)    \n",
    "print(w)"
   ]
  },
  {
   "cell_type": "code",
   "execution_count": 3,
   "metadata": {},
   "outputs": [
    {
     "name": "stdout",
     "output_type": "stream",
     "text": [
      "enter the number:341\n",
      "2\n",
      "2\n"
     ]
    }
   ],
   "source": [
    "k=int(input('enter the number:'))\n",
    "l=0\n",
    "while(k>10):\n",
    "    k=prodDigits(k)\n",
    "    l+=1\n",
    "print(k) \n",
    "print(l) "
   ]
  },
  {
   "cell_type": "code",
   "execution_count": 6,
   "metadata": {},
   "outputs": [
    {
     "name": "stdout",
     "output_type": "stream",
     "text": [
      "enter the number:36\n",
      "1 is a proper divisor of 36\n",
      "2 is a proper divisor of 36\n",
      "3 is a proper divisor of 36\n",
      "4 is a proper divisor of 36\n",
      "6 is a proper divisor of 36\n",
      "9 is a proper divisor of 36\n",
      "12 is a proper divisor of 36\n",
      "18 is a proper divisor of 36\n",
      "55\n"
     ]
    }
   ],
   "source": [
    "num=int(input('enter the number:'))\n",
    "def  sumPdivisors(k):\n",
    "    s=0\n",
    "    for i in range(1,k):\n",
    "        if(k%i==0):\n",
    "            print(i,'is a proper divisor of',k)\n",
    "            s+=i\n",
    "    return s \n",
    "q=sumPdivisors(num)\n",
    "print(q)"
   ]
  },
  {
   "cell_type": "code",
   "execution_count": 8,
   "metadata": {},
   "outputs": [
    {
     "name": "stdout",
     "output_type": "stream",
     "text": [
      "enter the number:34\n",
      "1 is a proper divisor of 34\n",
      "2 is a proper divisor of 34\n",
      "17 is a proper divisor of 34\n",
      "34 is not a perfect number\n"
     ]
    }
   ],
   "source": [
    "t=int(input('enter the number:'))\n",
    "x=sumPdivisors(t)\n",
    "if(x==t):\n",
    "    print(t,'is a perfect number')\n",
    "else:\n",
    "    print(t,'is not a perfect number')"
   ]
  },
  {
   "cell_type": "code",
   "execution_count": 11,
   "metadata": {},
   "outputs": [
    {
     "name": "stdout",
     "output_type": "stream",
     "text": [
      "enter the number:220\n",
      "enter the number:284\n",
      "1 is a proper divisor of 220\n",
      "2 is a proper divisor of 220\n",
      "4 is a proper divisor of 220\n",
      "5 is a proper divisor of 220\n",
      "10 is a proper divisor of 220\n",
      "11 is a proper divisor of 220\n",
      "20 is a proper divisor of 220\n",
      "22 is a proper divisor of 220\n",
      "44 is a proper divisor of 220\n",
      "55 is a proper divisor of 220\n",
      "110 is a proper divisor of 220\n",
      "1 is a proper divisor of 284\n",
      "2 is a proper divisor of 284\n",
      "4 is a proper divisor of 284\n",
      "71 is a proper divisor of 284\n",
      "142 is a proper divisor of 284\n",
      "********************************\n",
      "220 284  are  amicable numbers\n"
     ]
    }
   ],
   "source": [
    "l=int(input('enter the number:'))\n",
    "m=int(input('enter the number:'))\n",
    "er=sumPdivisors(l)\n",
    "ed=sumPdivisors(m)\n",
    "\n",
    "if(er==m) and (ed==l):\n",
    "    print('********************************')\n",
    "    print(l,m,' are  amicable numbers')"
   ]
  },
  {
   "cell_type": "code",
   "execution_count": 13,
   "metadata": {},
   "outputs": [
    {
     "name": "stdout",
     "output_type": "stream",
     "text": [
      "[2, 4, 6, 8]\n"
     ]
    }
   ],
   "source": [
    "def evennum(x):\n",
    "    if(x%2==0):\n",
    "        return x\n",
    "lst=[1,2,3,4,5,6,7,8,9]\n",
    "sd=list(filter(evennum,lst))\n",
    "print(sd)"
   ]
  },
  {
   "cell_type": "code",
   "execution_count": 16,
   "metadata": {},
   "outputs": [
    {
     "name": "stdout",
     "output_type": "stream",
     "text": [
      "[1331, 27, 512, 8]\n"
     ]
    }
   ],
   "source": [
    "def cubelst(x):\n",
    "    a=x**3\n",
    "    return a\n",
    "lst=[11,3,8,2]\n",
    "f=list(map(cubelst,lst))\n",
    "print(f)"
   ]
  },
  {
   "cell_type": "code",
   "execution_count": 19,
   "metadata": {},
   "outputs": [
    {
     "name": "stdout",
     "output_type": "stream",
     "text": [
      "[8, 64, 216, 512]\n"
     ]
    }
   ],
   "source": [
    "rt=[1,2,3,4,5,6,7,8,9]\n",
    "sk=list(filter(evennum,rt))\n",
    "fz=list(map(cubelst,sk))\n",
    "print(fz)"
   ]
  },
  {
   "cell_type": "code",
   "execution_count": 3,
   "metadata": {},
   "outputs": [
    {
     "data": {
      "text/plain": [
       "array([0, 2, 4, 6, 8])"
      ]
     },
     "execution_count": 3,
     "metadata": {},
     "output_type": "execute_result"
    }
   ],
   "source": [
    "import numpy as np\n",
    "a=np.arange(10)\n",
    "v=(a%2==0)\n",
    "d=a[v]\n",
    "d"
   ]
  },
  {
   "cell_type": "code",
   "execution_count": 9,
   "metadata": {},
   "outputs": [
    {
     "data": {
      "text/plain": [
       "20"
      ]
     },
     "execution_count": 9,
     "metadata": {},
     "output_type": "execute_result"
    }
   ],
   "source": [
    "d.sum()"
   ]
  },
  {
   "cell_type": "code",
   "execution_count": 4,
   "metadata": {},
   "outputs": [
    {
     "data": {
      "text/plain": [
       "<matplotlib.axes._subplots.AxesSubplot at 0x20b8fb0d278>"
      ]
     },
     "execution_count": 4,
     "metadata": {},
     "output_type": "execute_result"
    },
    {
     "data": {
      "image/png": "[encoded data removed]",
      "text/plain": [
       "<Figure size 432x288 with 1 Axes>"
      ]
     },
     "metadata": {
      "needs_background": "light"
     },
     "output_type": "display_data"
    }
   ],
   "source": [
    "import pandas as pd\n",
    "#d=pd.read_csv('iris.csv')\n",
    "pd.read_csv('iris.csv').plot(kind='scatter',x='petal.length',y='petal.width',title='kj',linewidth=2)"
   ]
  },
  {
   "cell_type": "code",
   "execution_count": 1,
   "metadata": {},
   "outputs": [
    {
     "ename": "AttributeError",
     "evalue": "'list' object has no attribute 'map'",
     "output_type": "error",
     "traceback": [
      "\u001b[1;31m---------------------------------------------------------------------------\u001b[0m",
      "\u001b[1;31mAttributeError\u001b[0m                            Traceback (most recent call last)",
      "\u001b[1;32m<ipython-input-1-733d95ea2e50>\u001b[0m in \u001b[0;36m<module>\u001b[1;34m\u001b[0m\n\u001b[0;32m      2\u001b[0m     \u001b[1;32mreturn\u001b[0m \u001b[0mx\u001b[0m\u001b[1;33m*\u001b[0m\u001b[1;36m2\u001b[0m\u001b[1;33m\u001b[0m\u001b[1;33m\u001b[0m\u001b[0m\n\u001b[0;32m      3\u001b[0m \u001b[0mg\u001b[0m\u001b[1;33m=\u001b[0m\u001b[1;33m[\u001b[0m\u001b[1;36m1\u001b[0m\u001b[1;33m,\u001b[0m\u001b[1;36m2\u001b[0m\u001b[1;33m,\u001b[0m\u001b[1;36m3\u001b[0m\u001b[1;33m,\u001b[0m\u001b[1;36m4\u001b[0m\u001b[1;33m,\u001b[0m\u001b[1;36m5\u001b[0m\u001b[1;33m,\u001b[0m\u001b[1;36m6\u001b[0m\u001b[1;33m]\u001b[0m\u001b[1;33m\u001b[0m\u001b[1;33m\u001b[0m\u001b[0m\n\u001b[1;32m----> 4\u001b[1;33m \u001b[0mdf\u001b[0m\u001b[1;33m=\u001b[0m\u001b[0mg\u001b[0m\u001b[1;33m.\u001b[0m\u001b[0mmap\u001b[0m\u001b[1;33m(\u001b[0m\u001b[0mabc\u001b[0m\u001b[1;33m)\u001b[0m\u001b[1;33m\u001b[0m\u001b[1;33m\u001b[0m\u001b[0m\n\u001b[0m",
      "\u001b[1;31mAttributeError\u001b[0m: 'list' object has no attribute 'map'"
     ]
    }
   ],
   "source": [
    "def abc(x):\n",
    "    return x*2\n",
    "g=[1,2,3,4,5,6]\n",
    "df=g.map(abc)"
   ]
  },
  {
   "cell_type": "code",
   "execution_count": 10,
   "metadata": {},
   "outputs": [
    {
     "data": {
      "text/plain": [
       "0     me\n",
       "1    you\n",
       "2    him\n",
       "dtype: object"
      ]
     },
     "execution_count": 10,
     "metadata": {},
     "output_type": "execute_result"
    }
   ],
   "source": [
    "import pandas as pd\n",
    "a=pd.Series(['me','you','him'])\n",
    "b=pd.Series(['me','you','him'],index=['me','you','him'])\n",
    "a.map(b)"
   ]
  },
  {
   "cell_type": "code",
   "execution_count": 13,
   "metadata": {},
   "outputs": [
    {
     "data": {
      "text/plain": [
       "0    5.0\n",
       "1    3.0\n",
       "dtype: float64"
      ]
     },
     "execution_count": 13,
     "metadata": {},
     "output_type": "execute_result"
    }
   ],
   "source": [
    "import pandas as pd\n",
    "o=pd.Series(['55','32'])\n",
    "o.map(lambda x:float(x[0:-1]))"
   ]
  },
  {
   "cell_type": "code",
   "execution_count": 15,
   "metadata": {},
   "outputs": [
    {
     "data": {
      "text/plain": [
       "0    2\n",
       "1    4\n",
       "2    6\n",
       "dtype: int64"
      ]
     },
     "execution_count": 15,
     "metadata": {},
     "output_type": "execute_result"
    }
   ],
   "source": [
    "r=pd.Series([1,2,3])\n",
    "r*2"
   ]
  },
  {
   "cell_type": "code",
   "execution_count": 22,
   "metadata": {},
   "outputs": [
    {
     "data": {
      "text/plain": [
       "0   NaN\n",
       "1   NaN\n",
       "dtype: float64"
      ]
     },
     "execution_count": 22,
     "metadata": {},
     "output_type": "execute_result"
    }
   ],
   "source": [
    "o=pd.Series([55,32])\n",
    "o.map(o)"
   ]
  },
  {
   "cell_type": "code",
   "execution_count": 30,
   "metadata": {},
   "outputs": [
    {
     "data": {
      "text/plain": [
       "3"
      ]
     },
     "execution_count": 30,
     "metadata": {},
     "output_type": "execute_result"
    }
   ],
   "source": [
    "o=pd.Series(['553','32'])\n",
    "len(o[0])"
   ]
  },
  {
   "cell_type": "code",
   "execution_count": 1,
   "metadata": {},
   "outputs": [],
   "source": [
    "from tkinter import *\n",
    "import tkinter.messagebox\n",
    "\n",
    "def calculate1() :\n",
    "\n",
    "    pat1=pata.get()\n",
    "    st1=sta.get()\n",
    "    sa1=saa.get()\n",
    "    var1=vara.get()\n",
    "    name1=namea.get()\n",
    "\n",
    "    if var1==\"\" or name1==\"\" or st1==\"\" or sa1==\"\" or pat1==\"\" :\n",
    "        tkinter.messagebox.showinfo(\"MESSAGEBOX\",\"PLEASE FILL ALL THE FIELDS.\")\n",
    "\n",
    "    pat1=float(pat1)\n",
    "    st1=int(st1)\n",
    "    sa1=int(sa1)\n",
    "    i=0\n",
    "    a=(sa1/st1)*100\n",
    "\n",
    "    if pat1!=a :\n",
    "        tkinter.messagebox.showinfo(\"MESSAGEBOX\", (\"PLEASE\",\"ENTER\",\"CORRECT\",\"DATA\",\",\",\"YOUR\",\"NUMBERS\",\"AREN'T\",\"ADDING\",\"UP\",\"TO\",\"YOUR\",\"PRESENT\",\"ATTENDANCE\",\".\"))\n",
    "\n",
    "    if pat1==a :\n",
    "        while a<75 :\n",
    "            a=((sa1+1)/(st1+1))*100\n",
    "            sa1=sa1+1\n",
    "            st1=st1+1\n",
    "            i=i+1\n",
    "\n",
    "        if i!=0 :\n",
    "            tkinter.messagebox.showinfo(\"MESSAGEBOX\", (\n",
    "            \"HELLO\", name1.upper(), \"!\", \"YOU\", \"HAVE\", \"TO\", \"ATTEND\", i , var1, \"CLASSES\", \"TO\", \"GET\", \"75%\",\n",
    "            \"ATTENDENCE\", \"GOOD\", \"LUCK!\"))\n",
    "\n",
    "        elif  pat1==75 :\n",
    "\n",
    "            tkinter.messagebox.showinfo(\"MESSAGEBOX\",(\"CONGRATS\", name1.upper(),\"!\", \"YOUR\",\"ATTENDANCE\",\"IN\",var1,\"IS\",\"ALREADY\",\"EQUAL\",\"TO\",\"75%.\"))\n",
    "\n",
    "        elif  pat1>75 :\n",
    "\n",
    "            tkinter.messagebox.showinfo(\"MESSAGEBOX\",(\"CONGRATS\", name1.upper(),\"!\", \"YOUR\",\"ATTENDANCE\",\"IN\",var1,\"IS\",\"ALREADY\",\"ABOVE\",\"75%.\"))\n",
    "\n",
    "\n",
    "def calculate2() :\n",
    "    ts2 = tsb.get()\n",
    "    sa2 = sab.get()\n",
    "    var2 = varb.get()\n",
    "    name2 = nameb.get()\n",
    "    sta2=stab.get()\n",
    "\n",
    "    if var2==\"\" or name2==\"\" or ts2==\"\" or sa2==\"\" or sta2==\"\" :\n",
    "        tkinter.messagebox.showinfo(\"MESSAGEBOX\",\"PLEASE FILL ALL THE FIELDS\")\n",
    "\n",
    "    ts2 = int(ts2)\n",
    "    sa2 = int(sa2)\n",
    "    sta2= int(sta2)\n",
    "\n",
    "    fa= ((sa2+sta2)/ts2)*100\n",
    "\n",
    "    tkinter.messagebox.showinfo(\"MESSAGEBOX\",(\"YOUR\",\"ATTENDANCE\",\"IN\",var2,\"AT\",\"THE\",\"END\",\"OF\",\"THE\",\"SEM\",\"WILL\",\"BE\",fa))\n",
    "\n",
    "def clear1() :\n",
    "    entry1.delete(\"0\",\"20\")\n",
    "    entry3.delete(\"0\",\"20\")\n",
    "    entry5.delete(\"0\",\"20\")\n",
    "    entry6.delete(\"0\",\"20\")\n",
    "    entry7.delete(\"0\",\"20\")\n",
    "    entry8.delete(\"0\",\"20\")\n",
    "    entry2.delete(\"0\",\"20\")\n",
    "    entry9.delete(\"0\",\"20\")\n",
    "    vara.set(\"\")\n",
    "    varb.set(\"\")\n",
    "\n",
    "\n",
    "root=Tk()\n",
    "\n",
    "\n",
    "root.title(\"ATTENDANCE CALCULATOR\")\n",
    "\n",
    "label1= Label(root,text=\"ATTENDENCE TO 75%\",font=(\"Times New Roman\",20))\n",
    "label1.grid(row=0,column=0,sticky=W)\n",
    "\n",
    "label2= Label(root,text=\"NAME\",font=(\"Times New Roman\",15))\n",
    "label2.grid(row=2,column=0,sticky=W)\n",
    "\n",
    "label3= Label(root,text=\"CURRENT ATTENDACE(%)\",font=(\"Times New Roman\",15))\n",
    "label3.grid(row=4,column=0,sticky=W)\n",
    "\n",
    "label4= Label(root,text=\"SELECT SUBJECT\",font=(\"Times New Roman\",15))\n",
    "label4.grid(row=3,column=0,sticky=W)\n",
    "\n",
    "label25= Label(root,text=\"NO OF CLASSES DONE\",font=(\"Times New Roman\",15))\n",
    "label25.grid(row=5,column=0,sticky=W)\n",
    "\n",
    "label26= Label(root,text=\"NO OF CLASSES ATTENDED\",font=(\"Times New Roman\",15))\n",
    "label26.grid(row=6,column=0,sticky=W)\n",
    "\n",
    "\n",
    "namea=StringVar()\n",
    "pata=StringVar()\n",
    "sta=StringVar()\n",
    "saa=StringVar()\n",
    "entry1= Entry(root,textvariable=namea)\n",
    "entry2= Entry(root,textvariable=pata)\n",
    "entry7= Entry(root,textvariable=sta)\n",
    "entry8= Entry(root,textvariable=saa)\n",
    "entry1.grid(row=2,column=1)\n",
    "entry2.grid(row=4,column=1)\n",
    "entry7.grid(row=5,column=1)\n",
    "entry8.grid(row=6,column=1)\n",
    "\n",
    "\n",
    "vara=StringVar()\n",
    "sub1=OptionMenu(root,vara,\"MATHS\",\"PHYSICS\",\"CHEMISTRY\",\"COMPUTER PROGRAMING\",\"ENVIRONMENTAL SCIENCE\",\"ENGINEERING GRAPHICS\",\"WORKSHOP\",\"ENGLISH\",\"ENGLISH LAB\",\"ENGINEERING GRAPHICS LAB\",\"WORKSHOP LAB\")\n",
    "sub1.configure(font=(\"Times New Roman\",15))\n",
    "sub1.grid(row=3,column=1)\n",
    "\n",
    "cal1=Button(root,text=\"CALCULATE\",font=(\"Times New Roman\",15))\n",
    "cal1.configure(command=calculate1)\n",
    "cal1.grid(row=9,column=0)\n",
    "\n",
    "label7= Label(root,text=\"   ||   \",font=25)\n",
    "label7.grid(row=1,column=3)\n",
    "\n",
    "label8= Label(root,text=\"   ||   \",font=25)\n",
    "label8.grid(row=2,column=3)\n",
    "\n",
    "label9= Label(root,text=\"   ||   \",font=25)\n",
    "label9.grid(row=3,column=3)\n",
    "\n",
    "label10= Label(root,text=\"   ||   \",font=25)\n",
    "label10.grid(row=4,column=3)\n",
    "\n",
    "label11= Label(root,text=\"   ||   \",font=25)\n",
    "label11.grid(row=5,column=3)\n",
    "\n",
    "label12= Label(root,text=\"   ||   \",font=25)\n",
    "label12.grid(row=6,column=3)\n",
    "\n",
    "label22= Label(root,text=\"   ||   \",font=25)\n",
    "label22.grid(row=7,column=3)\n",
    "\n",
    "label23= Label(root,text=\"   ||   \",font=25)\n",
    "label23.grid(row=8,column=3)\n",
    "\n",
    "label21= Label(root,text=\"   ||   \",font=25)\n",
    "label21.grid(row=0,column=3)\n",
    "\n",
    "label24= Label(root,text=\"   ||   \",font=25)\n",
    "label24.grid(row=9,column=3)\n",
    "\n",
    "label28= Label(root,text=\"   ||   \",font=25)\n",
    "label28.grid(row=10,column=3)\n",
    "\n",
    "\n",
    "label13= Label(root,text=\"ATTENDANCE(%) AT SEM END\",font=(\"Times New Roman\",20))\n",
    "label13.grid(row=0,column=4,sticky=W)\n",
    "\n",
    "label14= Label(root,text=\"NAME\",font=(\"Times New Roman\",15))\n",
    "label14.grid(row=2,column=4,sticky=W)\n",
    "\n",
    "label15= Label(root,text=\"CURRENT ATTENDACE(%)\",font=(\"Times New Roman\",15))\n",
    "label15.grid(row=4,column=4,sticky=W)\n",
    "\n",
    "label16= Label(root,text=\"SELECT SUBJECT\",font=(\"Times New Roman\",15))\n",
    "label16.grid(row=3,column=4,sticky=W)\n",
    "\n",
    "label17= Label(root,text=\"TOTAL CLASSES IN THAT SEM\",font=(\"Times New Roman\",15))\n",
    "label17.grid(row=4,column=4,sticky=W)\n",
    "\n",
    "label27= Label(root,text=\"NO OF CLASSES ATTENDED\",font=(\"Times New Roman\",15))\n",
    "label27.grid(row=5,column=4,sticky=W)\n",
    "\n",
    "label18= Label(root,text=\"NO OF CLASSES YOU WILL ATTEND\",font=(\"Times New Roman\",15))\n",
    "label18.grid(row=6,column=4,sticky=W)\n",
    "\n",
    "nameb=StringVar()\n",
    "patb=StringVar()\n",
    "tsb=StringVar()\n",
    "sab=StringVar()\n",
    "stab=StringVar()\n",
    "\n",
    "entry3= Entry(root,textvariable=nameb)\n",
    "entry5= Entry(root,textvariable=tsb)\n",
    "entry6= Entry(root,textvariable=sab)\n",
    "entry9= Entry(root,textvariable=stab)\n",
    "entry3.grid(row=2,column=5)\n",
    "entry5.grid(row=4,column=5)\n",
    "entry6.grid(row=5,column=5)\n",
    "entry9.grid(row=6,column=5)\n",
    "\n",
    "varb=StringVar()\n",
    "sub2=OptionMenu(root,varb,\"MATHS\",\"PHYSICS\",\"CHEMISTRY\",\"COMPUTER PROGRAMING\",\"ENVIRONMENTAL SCIENCE\",\"ENGINEERING GRAPHICS\",\"WORKSHOP\",\"ENGLISH\",\"ENGLISH LAB\",\"ENGINEERING GRAPHICS LAB\",\"WORKSHOP LAB\")\n",
    "sub2.configure(font=(\"Times New Roman\",15))\n",
    "sub2.grid(row=3,column=5)\n",
    "\n",
    "cal2=Button(root,text=\"CALCULATE\",font=(\"Times New Roman\",15))\n",
    "cal2.configure(command=calculate2)\n",
    "cal2.grid(row=9,column=4)\n",
    "\n",
    "clear=Button(root,text=\"CLEAR\",font=(\"Times New Roman\",15))\n",
    "clear.configure(command=clear1)\n",
    "clear.grid(row=11,column=3)\n",
    "\n",
    "root.mainloop()\n"
   ]
  },
  {
   "cell_type": "code",
   "execution_count": 7,
   "metadata": {},
   "outputs": [
    {
     "data": {
      "text/plain": [
       "'321'"
      ]
     },
     "execution_count": 7,
     "metadata": {},
     "output_type": "execute_result"
    }
   ],
   "source": [
    "a='123'\n",
    "b=reversed(a)\n",
    "c=list(b)\n",
    "''.join(c)"
   ]
  },
  {
   "cell_type": "code",
   "execution_count": 14,
   "metadata": {},
   "outputs": [
    {
     "name": "stdout",
     "output_type": "stream",
     "text": [
      "Enter three value: 1 2 3 \n"
     ]
    }
   ],
   "source": [
    "z = input(\"Enter three value: \").split()"
   ]
  },
  {
   "cell_type": "code",
   "execution_count": 13,
   "metadata": {},
   "outputs": [
    {
     "data": {
      "text/plain": [
       "['1', '2', '3']"
      ]
     },
     "execution_count": 13,
     "metadata": {},
     "output_type": "execute_result"
    }
   ],
   "source": [
    "z"
   ]
  },
  {
   "cell_type": "code",
   "execution_count": 5,
   "metadata": {},
   "outputs": [
    {
     "ename": "TypeError",
     "evalue": "list indices must be integers or slices, not tuple",
     "output_type": "error",
     "traceback": [
      "\u001b[1;31m---------------------------------------------------------------------------\u001b[0m",
      "\u001b[1;31mTypeError\u001b[0m                                 Traceback (most recent call last)",
      "\u001b[1;32m<ipython-input-5-56f25fe66785>\u001b[0m in \u001b[0;36m<module>\u001b[1;34m\u001b[0m\n\u001b[0;32m      1\u001b[0m \u001b[0ml\u001b[0m\u001b[1;33m=\u001b[0m\u001b[1;33m[\u001b[0m\u001b[1;33m[\u001b[0m\u001b[1;36m1\u001b[0m\u001b[1;33m,\u001b[0m\u001b[1;36m2\u001b[0m\u001b[1;33m]\u001b[0m\u001b[1;33m,\u001b[0m\u001b[1;33m[\u001b[0m\u001b[1;36m3\u001b[0m\u001b[1;33m,\u001b[0m\u001b[1;36m4\u001b[0m\u001b[1;33m]\u001b[0m\u001b[1;33m,\u001b[0m\u001b[1;33m[\u001b[0m\u001b[1;36m5\u001b[0m\u001b[1;33m,\u001b[0m\u001b[1;36m6\u001b[0m\u001b[1;33m]\u001b[0m\u001b[1;33m]\u001b[0m\u001b[1;33m\u001b[0m\u001b[1;33m\u001b[0m\u001b[0m\n\u001b[1;32m----> 2\u001b[1;33m \u001b[0mprint\u001b[0m\u001b[1;33m(\u001b[0m\u001b[0ml\u001b[0m\u001b[1;33m[\u001b[0m\u001b[1;36m0\u001b[0m\u001b[1;33m,\u001b[0m\u001b[1;36m0\u001b[0m\u001b[1;33m]\u001b[0m\u001b[1;33m)\u001b[0m\u001b[1;33m\u001b[0m\u001b[1;33m\u001b[0m\u001b[0m\n\u001b[0m",
      "\u001b[1;31mTypeError\u001b[0m: list indices must be integers or slices, not tuple"
     ]
    }
   ],
   "source": [
    "l=[[1,2],[3,4],[5,6]]\n",
    "print(l[0,0])"
   ]
  },
  {
   "cell_type": "code",
   "execution_count": 7,
   "metadata": {},
   "outputs": [
    {
     "name": "stdout",
     "output_type": "stream",
     "text": [
      "[[[1 2]\n",
      "  [3 4]]\n",
      "\n",
      " [[5 6]\n",
      "  [7 8]]]\n"
     ]
    }
   ],
   "source": [
    "import numpy as np\n",
    "q=np.array([[[1,2],[3,4]],[[5,6],[7,8]]])\n",
    "print(q)"
   ]
  },
  {
   "cell_type": "code",
   "execution_count": 54,
   "metadata": {
    "scrolled": true
   },
   "outputs": [
    {
     "name": "stdout",
     "output_type": "stream",
     "text": [
      "[3]\n",
      "1.0\n"
     ]
    }
   ],
   "source": [
    "import numpy as np\n",
    "rng = np.random.RandomState(1)\n",
    "X = rng.randint(5, size=(6, 100))\n",
    "Y = np.array([1, 2, 3, 4, 4, 5])\n",
    "from sklearn.naive_bayes import BernoulliNB\n",
    "clf = BernoulliNB()\n",
    "clf.fit(X, Y)\n",
    "a=[[2 ,4 ,4 ,0 ,3 ,3 ,0 ,3 ,1 ,0 ,2 ,2 ,2 ,0 ,4 ,1 ,4 ,1 ,3 ,4 ,1 ,3 ,1 ,4 ,1 ,2 ,1 ,0 ,0 ,2 ,4 ,1 ,0 ,0 ,3 ,1,\n",
    "  0 ,4 ,3 ,2 ,3 ,4 ,4 ,3 ,0 ,0 ,0 ,4 ,1 ,4 ,1 ,2 ,2 ,4 ,3 ,4 ,4 ,0 ,3 ,2 ,4 ,3 ,4 ,2 ,3 ,0 ,2 ,1 ,3 ,2 ,0 ,1,\n",
    "  4, 1, 3, 3, 1, 2, 0, 2, 4, 0, 2, 4, 3, 4, 3, 0, 4, 2, 2, 4, 1, 6, 1, 1, 1, 0, 4, 4]]\n",
    "print(clf.predict(a))\n",
    "print(clf.score(X,Y))"
   ]
  },
  {
   "cell_type": "code",
   "execution_count": null,
   "metadata": {},
   "outputs": [],
   "source": []
  }
 ],
 "metadata": {
  "kernelspec": {
   "display_name": "Python 3",
   "language": "python",
   "name": "python3"
  },
  "language_info": {
   "codemirror_mode": {
    "name": "ipython",
    "version": 3
   },
   "file_extension": ".py",
   "mimetype": "text/x-python",
   "name": "python",
   "nbconvert_exporter": "python",
   "pygments_lexer": "ipython3",
   "version": "3.7.3"
  }
 },
 "nbformat": 4,
 "nbformat_minor": 2
}
